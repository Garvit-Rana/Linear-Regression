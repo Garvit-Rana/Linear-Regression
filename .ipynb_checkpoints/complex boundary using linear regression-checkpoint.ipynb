{
 "cells": [
  {
   "cell_type": "code",
   "execution_count": 3,
   "metadata": {},
   "outputs": [],
   "source": [
    "from sklearn import datasets\n",
    "data=datasets.load_boston()"
   ]
  },
  {
   "cell_type": "code",
   "execution_count": 5,
   "metadata": {},
   "outputs": [],
   "source": [
    "x=data.data\n",
    "y=data.target\n"
   ]
  },
  {
   "cell_type": "code",
   "execution_count": 25,
   "metadata": {},
   "outputs": [
    {
     "data": {
      "text/plain": [
       "(506, 14)"
      ]
     },
     "execution_count": 25,
     "metadata": {},
     "output_type": "execute_result"
    }
   ],
   "source": [
    "import pandas as pd\n",
    "df=pd.DataFrame(x)\n",
    "df.columns=data.feature_names\n",
    "from sklearn import model_selection\n",
    "x_train,x_test,y_train,y_test=model_selection.train_test_split(x,y,random_state=0)\n",
    "df[\"age_age\"]=(df.AGE)**2\n",
    "x2=df.values\n",
    "x2.shape"
   ]
  },
  {
   "cell_type": "code",
   "execution_count": 27,
   "metadata": {},
   "outputs": [
    {
     "data": {
      "text/plain": [
       "(127, 13)"
      ]
     },
     "execution_count": 27,
     "metadata": {},
     "output_type": "execute_result"
    }
   ],
   "source": [
    "x2_train,x2_test,y2_train,y2_test=model_selection.train_test_split(x2,y,random_state=0)\n",
    "from sklearn.linear_model import LinearRegression\n",
    "alg1=LinearRegression()\n",
    "algo=LinearRegression()\n",
    "algo.fit(x_train,y_train)\n",
    "alg1.fit(x2_train,y2_train)\n",
    "x_test.shape"
   ]
  },
  {
   "cell_type": "code",
   "execution_count": 32,
   "metadata": {},
   "outputs": [
    {
     "name": "stdout",
     "output_type": "stream",
     "text": [
      "train_with :: 0.7697448370563938\n",
      "test_with :: 0.6353620786674621\n"
     ]
    }
   ],
   "source": [
    "y_pre=algo.predict(x_test)\n",
    "y2_pre=alg1.predict(x2_test)\n",
    "train=algo.score(x_train,y_train)\n",
    "test=algo.score(x_test,y_test)\n",
    "print(\"train_with ::\",train)\n",
    "print(\"test_with ::\",test)"
   ]
  },
  {
   "cell_type": "code",
   "execution_count": 33,
   "metadata": {},
   "outputs": [
    {
     "name": "stdout",
     "output_type": "stream",
     "text": [
      "train_with  0.7706930144759878\n",
      "test_with 0.6431839817871166\n"
     ]
    }
   ],
   "source": [
    "train_with=alg1.score(x2_train,y2_train)\n",
    "test_with=alg1.score(x2_test,y2_test)\n",
    "print(\"train_with \",train_with)\n",
    "print(\"test_with\",test_with)"
   ]
  },
  {
   "cell_type": "code",
   "execution_count": null,
   "metadata": {},
   "outputs": [],
   "source": []
  },
  {
   "cell_type": "code",
   "execution_count": null,
   "metadata": {},
   "outputs": [],
   "source": []
  }
 ],
 "metadata": {
  "kernelspec": {
   "display_name": "Python 3",
   "language": "python",
   "name": "python3"
  },
  "language_info": {
   "codemirror_mode": {
    "name": "ipython",
    "version": 3
   },
   "file_extension": ".py",
   "mimetype": "text/x-python",
   "name": "python",
   "nbconvert_exporter": "python",
   "pygments_lexer": "ipython3",
   "version": "3.6.5"
  }
 },
 "nbformat": 4,
 "nbformat_minor": 2
}
